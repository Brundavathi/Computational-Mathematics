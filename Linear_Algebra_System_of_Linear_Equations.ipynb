{
  "nbformat": 4,
  "nbformat_minor": 0,
  "metadata": {
    "colab": {
      "name": "Linear Algebra - System of Linear Equations.ipynb",
      "provenance": [],
      "collapsed_sections": [],
      "authorship_tag": "ABX9TyNJMzUq/YG8mDIQDVx5PLgk",
      "include_colab_link": true
    },
    "kernelspec": {
      "name": "python3",
      "display_name": "Python 3"
    }
  },
  "cells": [
    {
      "cell_type": "markdown",
      "metadata": {
        "id": "view-in-github",
        "colab_type": "text"
      },
      "source": [
        "<a href=\"https://colab.research.google.com/github/Brundavathi/Computational-Mathematics/blob/main/Linear_Algebra_System_of_Linear_Equations.ipynb\" target=\"_parent\"><img src=\"https://colab.research.google.com/assets/colab-badge.svg\" alt=\"Open In Colab\"/></a>"
      ]
    },
    {
      "cell_type": "code",
      "metadata": {
        "id": "mm50NmQyxhBQ"
      },
      "source": [
        "import numpy as np"
      ],
      "execution_count": null,
      "outputs": []
    },
    {
      "cell_type": "markdown",
      "metadata": {
        "id": "jLzdgBtrzhS2"
      },
      "source": [
        "###Solving Linear System of Equations\n",
        "x + y + z = 3<br/>\n",
        "2x + 3y + 7z = 0<br/>\n",
        "x + 3y - 2z = 17"
      ]
    },
    {
      "cell_type": "code",
      "metadata": {
        "id": "lYdZaoC7zgBJ",
        "colab": {
          "base_uri": "https://localhost:8080/"
        },
        "outputId": "7d3cb551-47bb-40ef-f0d2-6eabecdd854c"
      },
      "source": [
        "A = np.array([[1,1,1],[2,3,7],[1,3,-2]])\n",
        "A"
      ],
      "execution_count": null,
      "outputs": [
        {
          "output_type": "execute_result",
          "data": {
            "text/plain": [
              "array([[ 1,  1,  1],\n",
              "       [ 2,  3,  7],\n",
              "       [ 1,  3, -2]])"
            ]
          },
          "metadata": {
            "tags": []
          },
          "execution_count": 2
        }
      ]
    },
    {
      "cell_type": "code",
      "metadata": {
        "id": "1LEvLlIGy71U",
        "colab": {
          "base_uri": "https://localhost:8080/"
        },
        "outputId": "45f8780d-3daf-4b3b-9b9e-7a20cd4961d7"
      },
      "source": [
        "B = np.array([3,0,17])\n",
        "B"
      ],
      "execution_count": null,
      "outputs": [
        {
          "output_type": "execute_result",
          "data": {
            "text/plain": [
              "array([ 3,  0, 17])"
            ]
          },
          "metadata": {
            "tags": []
          },
          "execution_count": 3
        }
      ]
    },
    {
      "cell_type": "code",
      "metadata": {
        "id": "70wbME-b0elM",
        "colab": {
          "base_uri": "https://localhost:8080/"
        },
        "outputId": "e2b1ea7a-f3b0-40ba-9d97-85419ea24f1a"
      },
      "source": [
        "np.linalg.solve(A,B)"
      ],
      "execution_count": null,
      "outputs": [
        {
          "output_type": "execute_result",
          "data": {
            "text/plain": [
              "array([ 1.,  4., -2.])"
            ]
          },
          "metadata": {
            "tags": []
          },
          "execution_count": 4
        }
      ]
    },
    {
      "cell_type": "code",
      "metadata": {
        "id": "Jrui9i0A0pp9",
        "colab": {
          "base_uri": "https://localhost:8080/"
        },
        "outputId": "b3f2950c-d2b5-4dbe-9af6-70ca5ead9061"
      },
      "source": [
        "#Rank of Matrices\n",
        "\n",
        "np.linalg.matrix_rank(A)"
      ],
      "execution_count": null,
      "outputs": [
        {
          "output_type": "execute_result",
          "data": {
            "text/plain": [
              "3"
            ]
          },
          "metadata": {
            "tags": []
          },
          "execution_count": 5
        }
      ]
    },
    {
      "cell_type": "code",
      "metadata": {
        "id": "jp57TOoK1aBB",
        "colab": {
          "base_uri": "https://localhost:8080/"
        },
        "outputId": "d81d248f-0ae2-4ceb-dc08-9bff7ff10d8f"
      },
      "source": [
        "D = np.array([[1,1,1],[2,3,7],[0,0,0]])\n",
        "np.linalg.matrix_rank(D)"
      ],
      "execution_count": null,
      "outputs": [
        {
          "output_type": "execute_result",
          "data": {
            "text/plain": [
              "2"
            ]
          },
          "metadata": {
            "tags": []
          },
          "execution_count": 6
        }
      ]
    },
    {
      "cell_type": "code",
      "metadata": {
        "id": "PzaS2LKZ10hp",
        "colab": {
          "base_uri": "https://localhost:8080/"
        },
        "outputId": "4e7fbe27-7daf-4920-8673-5b33a435791b"
      },
      "source": [
        "#Eigen Value\n",
        "\n",
        "E = np.array([[-6,3],[4,5]])\n",
        "E"
      ],
      "execution_count": null,
      "outputs": [
        {
          "output_type": "execute_result",
          "data": {
            "text/plain": [
              "array([[-6,  3],\n",
              "       [ 4,  5]])"
            ]
          },
          "metadata": {
            "tags": []
          },
          "execution_count": 8
        }
      ]
    },
    {
      "cell_type": "code",
      "metadata": {
        "id": "CICGvH47glwk",
        "colab": {
          "base_uri": "https://localhost:8080/"
        },
        "outputId": "28e10dcb-e9a2-4971-caf8-9bb4724bae5b"
      },
      "source": [
        "W,V = np.linalg.eig(E)\n",
        "W  # Eigen Values"
      ],
      "execution_count": null,
      "outputs": [
        {
          "output_type": "execute_result",
          "data": {
            "text/plain": [
              "array([-7.,  6.])"
            ]
          },
          "metadata": {
            "tags": []
          },
          "execution_count": 9
        }
      ]
    },
    {
      "cell_type": "code",
      "metadata": {
        "id": "ZLCpQ2kEg21X",
        "colab": {
          "base_uri": "https://localhost:8080/"
        },
        "outputId": "c0651209-36be-438c-88ef-1e16d46fe5b0"
      },
      "source": [
        "V # Eigen Vector"
      ],
      "execution_count": null,
      "outputs": [
        {
          "output_type": "execute_result",
          "data": {
            "text/plain": [
              "array([[-0.9486833 , -0.24253563],\n",
              "       [ 0.31622777, -0.9701425 ]])"
            ]
          },
          "metadata": {
            "tags": []
          },
          "execution_count": 10
        }
      ]
    },
    {
      "cell_type": "code",
      "metadata": {
        "id": "mEaGg4_Ig3_m",
        "colab": {
          "base_uri": "https://localhost:8080/"
        },
        "outputId": "bd669863-24c3-46a4-f6e4-bbf8d02d44d7"
      },
      "source": [
        "np.multiply(W,V) # Multiply Eigen vector with Eigen Value"
      ],
      "execution_count": null,
      "outputs": [
        {
          "output_type": "execute_result",
          "data": {
            "text/plain": [
              "array([[ 6.64078309, -1.45521375],\n",
              "       [-2.21359436, -5.820855  ]])"
            ]
          },
          "metadata": {
            "tags": []
          },
          "execution_count": 11
        }
      ]
    },
    {
      "cell_type": "code",
      "metadata": {
        "id": "RAKam6_IiH2m",
        "colab": {
          "base_uri": "https://localhost:8080/"
        },
        "outputId": "9657e599-46c6-4f57-b724-007fe9b99a0e"
      },
      "source": [
        "np.matmul(E,V) #Multiply Matrix with Eigen Vector"
      ],
      "execution_count": null,
      "outputs": [
        {
          "output_type": "execute_result",
          "data": {
            "text/plain": [
              "array([[ 6.64078309, -1.45521375],\n",
              "       [-2.21359436, -5.820855  ]])"
            ]
          },
          "metadata": {
            "tags": []
          },
          "execution_count": 13
        }
      ]
    },
    {
      "cell_type": "code",
      "metadata": {
        "id": "h8Ievd0_ikvY"
      },
      "source": [
        ""
      ],
      "execution_count": null,
      "outputs": []
    }
  ]
}