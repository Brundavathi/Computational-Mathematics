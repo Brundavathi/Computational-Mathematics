{
  "nbformat": 4,
  "nbformat_minor": 0,
  "metadata": {
    "colab": {
      "name": "Statistics - Central Limit Theorem.ipynb",
      "provenance": [],
      "collapsed_sections": [],
      "authorship_tag": "ABX9TyOL9OTlZzBpyWKizKlUuJ/y",
      "include_colab_link": true
    },
    "kernelspec": {
      "name": "python3",
      "display_name": "Python 3"
    }
  },
  "cells": [
    {
      "cell_type": "markdown",
      "metadata": {
        "id": "view-in-github",
        "colab_type": "text"
      },
      "source": [
        "<a href=\"https://colab.research.google.com/github/Brundavathi/Computational-Mathematics/blob/main/Statistics_Central_Limit_Theorem.ipynb\" target=\"_parent\"><img src=\"https://colab.research.google.com/assets/colab-badge.svg\" alt=\"Open In Colab\"/></a>"
      ]
    },
    {
      "cell_type": "code",
      "metadata": {
        "id": "75iaiKrzAKZs"
      },
      "source": [
        "import numpy as np\n",
        "import random\n",
        "import matplotlib.pyplot as plt"
      ],
      "execution_count": null,
      "outputs": []
    },
    {
      "cell_type": "code",
      "metadata": {
        "id": "poIE6dfcA633",
        "colab": {
          "base_uri": "https://localhost:8080/",
          "height": 265
        },
        "outputId": "d6b453b9-6df5-435d-cf3b-015bef0e5e5f"
      },
      "source": [
        "#Population data with uniform distrubution\n",
        "\n",
        "population_uniform = np.random.rand(1000000) # a vector data\n",
        "plt.hist(population_uniform)\n",
        "plt.show()"
      ],
      "execution_count": null,
      "outputs": [
        {
          "output_type": "display_data",
          "data": {
            "image/png": "[encoded data removed]",
            "text/plain": [
              "<Figure size 432x288 with 1 Axes>"
            ]
          },
          "metadata": {
            "tags": [],
            "needs_background": "light"
          }
        }
      ]
    },
    {
      "cell_type": "code",
      "metadata": {
        "id": "yGOz_tkpCEjh"
      },
      "source": [
        ""
      ],
      "execution_count": null,
      "outputs": []
    },
    {
      "cell_type": "code",
      "metadata": {
        "id": "56nbpN8xBaa8",
        "colab": {
          "base_uri": "https://localhost:8080/"
        },
        "outputId": "4050b731-dcf3-474c-937e-1eeb7e8569c5"
      },
      "source": [
        "np.mean(population_uniform)"
      ],
      "execution_count": null,
      "outputs": [
        {
          "output_type": "execute_result",
          "data": {
            "text/plain": [
              "0.4998129683158327"
            ]
          },
          "metadata": {
            "tags": []
          },
          "execution_count": 6
        }
      ]
    },
    {
      "cell_type": "code",
      "metadata": {
        "id": "y71pR2UKBs-c",
        "colab": {
          "base_uri": "https://localhost:8080/",
          "height": 265
        },
        "outputId": "5d21120f-434f-4a55-f0dd-843d34fb9839"
      },
      "source": [
        "#The distribution of the means from the sampled groups will be normally distributed\n",
        "\n",
        "samples_uniform = [np.mean(random.choices(population_uniform,k = 30)) for _ in range(1000)]\n",
        "plt.hist(samples_uniform)\n",
        "plt.show()"
      ],
      "execution_count": null,
      "outputs": [
        {
          "output_type": "display_data",
          "data": {
            "image/png": "[encoded data removed]",
            "text/plain": [
              "<Figure size 432x288 with 1 Axes>"
            ]
          },
          "metadata": {
            "tags": [],
            "needs_background": "light"
          }
        }
      ]
    },
    {
      "cell_type": "code",
      "metadata": {
        "id": "4P6NZqcuENN5",
        "colab": {
          "base_uri": "https://localhost:8080/"
        },
        "outputId": "f7024428-43b2-4ed8-bb52-e4925dd51027"
      },
      "source": [
        "\n",
        "np.mean(samples_uniform)"
      ],
      "execution_count": null,
      "outputs": [
        {
          "output_type": "execute_result",
          "data": {
            "text/plain": [
              "0.5017023515153756"
            ]
          },
          "metadata": {
            "tags": []
          },
          "execution_count": 10
        }
      ]
    },
    {
      "cell_type": "code",
      "metadata": {
        "id": "7GYwX4X9E70x",
        "colab": {
          "base_uri": "https://localhost:8080/"
        },
        "outputId": "4b5a4750-8c40-46d1-c1dc-7c7f21250d94"
      },
      "source": [
        "np.std(samples_uniform)"
      ],
      "execution_count": null,
      "outputs": [
        {
          "output_type": "execute_result",
          "data": {
            "text/plain": [
              "0.0530309491378186"
            ]
          },
          "metadata": {
            "tags": []
          },
          "execution_count": 11
        }
      ]
    },
    {
      "cell_type": "code",
      "metadata": {
        "id": "LMjHRRsjFBQu",
        "colab": {
          "base_uri": "https://localhost:8080/"
        },
        "outputId": "a6d63f9c-96f0-4cad-b127-037586c0c1b6"
      },
      "source": [
        "np.std(population_uniform)/np.sqrt(30)"
      ],
      "execution_count": null,
      "outputs": [
        {
          "output_type": "execute_result",
          "data": {
            "text/plain": [
              "0.052676638972378814"
            ]
          },
          "metadata": {
            "tags": []
          },
          "execution_count": 12
        }
      ]
    },
    {
      "cell_type": "code",
      "metadata": {
        "id": "USs4WECyFYto",
        "colab": {
          "base_uri": "https://localhost:8080/"
        },
        "outputId": "07886381-cd37-4ff0-f47d-16cba35017e1"
      },
      "source": [
        "np.var(samples_uniform)"
      ],
      "execution_count": null,
      "outputs": [
        {
          "output_type": "execute_result",
          "data": {
            "text/plain": [
              "0.002812281566457903"
            ]
          },
          "metadata": {
            "tags": []
          },
          "execution_count": 13
        },
        {
          "output_type": "execute_result",
          "data": {
            "text/plain": [
              "0.002812281566457903"
            ]
          },
          "metadata": {
            "tags": []
          },
          "execution_count": 14
        }
      ]
    },
    {
      "cell_type": "code",
      "metadata": {
        "id": "5sbrzujJFtqW",
        "colab": {
          "base_uri": "https://localhost:8080/"
        },
        "outputId": "4fecda87-0565-46a5-8641-8fbcfca60a3e"
      },
      "source": [
        "np.var(population_uniform)/30"
      ],
      "execution_count": null,
      "outputs": [
        {
          "output_type": "execute_result",
          "data": {
            "text/plain": [
              "0.002774828293426339"
            ]
          },
          "metadata": {
            "tags": []
          },
          "execution_count": 16
        }
      ]
    },
    {
      "cell_type": "code",
      "metadata": {
        "id": "xr7VBo-PGnvZ",
        "colab": {
          "base_uri": "https://localhost:8080/",
          "height": 265
        },
        "outputId": "c65b240c-f5bd-429a-c84b-3c0474896c19"
      },
      "source": [
        "#Exponential Distribution\n",
        "\n",
        "population_exponential = np.random.exponential(scale = 1.0,size = 1000000)\n",
        "\n",
        "plt.hist(population_exponential)\n",
        "plt.show()"
      ],
      "execution_count": null,
      "outputs": [
        {
          "output_type": "display_data",
          "data": {
            "image/png": "[encoded data removed]",
            "text/plain": [
              "<Figure size 432x288 with 1 Axes>"
            ]
          },
          "metadata": {
            "tags": [],
            "needs_background": "light"
          }
        }
      ]
    },
    {
      "cell_type": "code",
      "metadata": {
        "id": "lVa1yGtWHnNx",
        "colab": {
          "base_uri": "https://localhost:8080/"
        },
        "outputId": "180e4691-bca3-496c-9d16-7c0357c72257"
      },
      "source": [
        "np.mean(population_exponential)"
      ],
      "execution_count": null,
      "outputs": [
        {
          "output_type": "execute_result",
          "data": {
            "text/plain": [
              "0.9988791141667894"
            ]
          },
          "metadata": {
            "tags": []
          },
          "execution_count": 21
        }
      ]
    },
    {
      "cell_type": "code",
      "metadata": {
        "id": "qROV6qZIII75",
        "colab": {
          "base_uri": "https://localhost:8080/",
          "height": 265
        },
        "outputId": "b8fae488-f210-4c89-da28-4d0280da1f40"
      },
      "source": [
        "\n",
        "samples_exponential = [np.mean(random.choices(population_exponential,k = 30)) for _ in range(1000)]\n",
        "plt.hist(samples_uniform)\n",
        "plt.show()"
      ],
      "execution_count": null,
      "outputs": [
        {
          "output_type": "display_data",
          "data": {
            "image/png": "[encoded data removed]",
            "text/plain": [
              "<Figure size 432x288 with 1 Axes>"
            ]
          },
          "metadata": {
            "tags": [],
            "needs_background": "light"
          }
        }
      ]
    },
    {
      "cell_type": "code",
      "metadata": {
        "id": "hvc4IP8bIpr1",
        "colab": {
          "base_uri": "https://localhost:8080/"
        },
        "outputId": "1a661e71-5c3a-4fc4-fbb0-ce16cdfe9d1a"
      },
      "source": [
        "np.mean(samples_exponential)"
      ],
      "execution_count": null,
      "outputs": [
        {
          "output_type": "execute_result",
          "data": {
            "text/plain": [
              "1.0003558951714178"
            ]
          },
          "metadata": {
            "tags": []
          },
          "execution_count": 23
        }
      ]
    },
    {
      "cell_type": "code",
      "metadata": {
        "id": "3tQRVsyEIxM_",
        "colab": {
          "base_uri": "https://localhost:8080/"
        },
        "outputId": "943d415b-5253-451b-c4a9-857ddba00bdb"
      },
      "source": [
        "np.std(samples_exponential)"
      ],
      "execution_count": null,
      "outputs": [
        {
          "output_type": "execute_result",
          "data": {
            "text/plain": [
              "0.18627279383651132"
            ]
          },
          "metadata": {
            "tags": []
          },
          "execution_count": 24
        }
      ]
    },
    {
      "cell_type": "code",
      "metadata": {
        "id": "cgyVJeXVI4DF",
        "colab": {
          "base_uri": "https://localhost:8080/"
        },
        "outputId": "76df455e-6744-47c5-8e8e-3de14eac6e48"
      },
      "source": [
        "np.std(population_exponential)/np.sqrt(30)"
      ],
      "execution_count": null,
      "outputs": [
        {
          "output_type": "execute_result",
          "data": {
            "text/plain": [
              "0.18233395609497927"
            ]
          },
          "metadata": {
            "tags": []
          },
          "execution_count": 25
        }
      ]
    },
    {
      "cell_type": "code",
      "metadata": {
        "id": "dmHkLm6UJGn8",
        "colab": {
          "base_uri": "https://localhost:8080/",
          "height": 265
        },
        "outputId": "a3a429ee-17d6-4476-8aaa-748dd9c60682"
      },
      "source": [
        "#Binomial Distribution\n",
        "\n",
        "population_binomial = np.random.negative_binomial(1,0.1,1000000)\n",
        "\n",
        "plt.hist(population_binomial)\n",
        "plt.show()"
      ],
      "execution_count": null,
      "outputs": [
        {
          "output_type": "display_data",
          "data": {
            "image/png": "[encoded data removed]",
            "text/plain": [
              "<Figure size 432x288 with 1 Axes>"
            ]
          },
          "metadata": {
            "tags": [],
            "needs_background": "light"
          }
        }
      ]
    },
    {
      "cell_type": "code",
      "metadata": {
        "id": "1YEoWqMkJ0tT",
        "colab": {
          "base_uri": "https://localhost:8080/",
          "height": 265
        },
        "outputId": "106147b0-ebb4-4e83-c603-e0034b8c23a9"
      },
      "source": [
        "samples_binomial = [np.mean(random.choices(population_binomial,k = 30)) for _ in range(1000)]\n",
        "plt.hist(samples_binomial)\n",
        "plt.show()"
      ],
      "execution_count": null,
      "outputs": [
        {
          "output_type": "display_data",
          "data": {
            "image/png": "[encoded data removed]",
            "text/plain": [
              "<Figure size 432x288 with 1 Axes>"
            ]
          },
          "metadata": {
            "tags": [],
            "needs_background": "light"
          }
        }
      ]
    },
    {
      "cell_type": "code",
      "metadata": {
        "id": "qaOR41VpKDg5",
        "colab": {
          "base_uri": "https://localhost:8080/"
        },
        "outputId": "0a6a4fe3-cf57-4266-d2ca-2a42c691c3b3"
      },
      "source": [
        "np.mean(samples_binomial)"
      ],
      "execution_count": null,
      "outputs": [
        {
          "output_type": "execute_result",
          "data": {
            "text/plain": [
              "9.037566666666665"
            ]
          },
          "metadata": {
            "tags": []
          },
          "execution_count": 28
        }
      ]
    },
    {
      "cell_type": "code",
      "metadata": {
        "id": "NvffM39eKIyN",
        "colab": {
          "base_uri": "https://localhost:8080/"
        },
        "outputId": "1d4a0909-3b7e-4bdf-feb3-9ad015e9182b"
      },
      "source": [
        "np.mean(population_binomial)"
      ],
      "execution_count": null,
      "outputs": [
        {
          "output_type": "execute_result",
          "data": {
            "text/plain": [
              "9.003641"
            ]
          },
          "metadata": {
            "tags": []
          },
          "execution_count": 29
        }
      ]
    },
    {
      "cell_type": "code",
      "metadata": {
        "id": "8buRHxenKNYm",
        "colab": {
          "base_uri": "https://localhost:8080/"
        },
        "outputId": "cfd1c3d4-09c9-45c0-924d-d79f87e6bbaf"
      },
      "source": [
        "np.var(samples_binomial)"
      ],
      "execution_count": null,
      "outputs": [
        {
          "output_type": "execute_result",
          "data": {
            "text/plain": [
              "2.900127634444444"
            ]
          },
          "metadata": {
            "tags": []
          },
          "execution_count": 30
        }
      ]
    },
    {
      "cell_type": "code",
      "metadata": {
        "id": "rWTQPPIpKQ-N",
        "colab": {
          "base_uri": "https://localhost:8080/"
        },
        "outputId": "7caab85f-4564-4d52-9a3c-2e9daaa6e279"
      },
      "source": [
        "np.var(population_binomial)/30"
      ],
      "execution_count": null,
      "outputs": [
        {
          "output_type": "execute_result",
          "data": {
            "text/plain": [
              "3.002440924770634"
            ]
          },
          "metadata": {
            "tags": []
          },
          "execution_count": 31
        }
      ]
    },
    {
      "cell_type": "code",
      "metadata": {
        "id": "fJx3i_bjKVzJ"
      },
      "source": [
        ""
      ],
      "execution_count": null,
      "outputs": []
    }
  ]
}