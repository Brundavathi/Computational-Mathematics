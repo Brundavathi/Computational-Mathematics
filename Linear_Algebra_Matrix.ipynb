{
  "nbformat": 4,
  "nbformat_minor": 0,
  "metadata": {
    "colab": {
      "name": "Linear Algebra - Matrix.ipynb",
      "provenance": [],
      "collapsed_sections": [],
      "authorship_tag": "ABX9TyPyhMDUuWEb2Gayg/Vcqfo9",
      "include_colab_link": true
    },
    "kernelspec": {
      "name": "python3",
      "display_name": "Python 3"
    }
  },
  "cells": [
    {
      "cell_type": "markdown",
      "metadata": {
        "id": "view-in-github",
        "colab_type": "text"
      },
      "source": [
        "<a href=\"https://colab.research.google.com/github/Brundavathi/Computational-Mathematics/blob/main/Linear_Algebra_Matrix.ipynb\" target=\"_parent\"><img src=\"https://colab.research.google.com/assets/colab-badge.svg\" alt=\"Open In Colab\"/></a>"
      ]
    },
    {
      "cell_type": "code",
      "metadata": {
        "id": "YsiwoDlbJEHU"
      },
      "source": [
        "import numpy as np"
      ],
      "execution_count": null,
      "outputs": []
    },
    {
      "cell_type": "code",
      "metadata": {
        "id": "YLNC3I6TJYI9",
        "colab": {
          "base_uri": "https://localhost:8080/"
        },
        "outputId": "987070fe-2d16-4563-cb39-c7e8e1a9f009"
      },
      "source": [
        "A = np.array([[3,4],[2,1]])\n",
        "B = np.array([[1,5],[3,7]])\n",
        "print('A : \\n',A)\n",
        "print('B : \\n',B)"
      ],
      "execution_count": null,
      "outputs": [
        {
          "output_type": "stream",
          "text": [
            "A : \n",
            " [[3 4]\n",
            " [2 1]]\n",
            "B : \n",
            " [[1 5]\n",
            " [3 7]]\n"
          ],
          "name": "stdout"
        }
      ]
    },
    {
      "cell_type": "code",
      "metadata": {
        "id": "UMGOiE7VK2Mn",
        "colab": {
          "base_uri": "https://localhost:8080/"
        },
        "outputId": "ef7ef4c4-d55e-4862-9fea-61858b4a142a"
      },
      "source": [
        "# Addition/Subtraction of Matrices\n",
        "\n",
        "A + B\n",
        "A - B "
      ],
      "execution_count": null,
      "outputs": [
        {
          "output_type": "execute_result",
          "data": {
            "text/plain": [
              "array([[ 2, -1],\n",
              "       [-1, -6]])"
            ]
          },
          "metadata": {
            "tags": []
          },
          "execution_count": 3
        }
      ]
    },
    {
      "cell_type": "code",
      "metadata": {
        "id": "9lNSrz-YLAjz",
        "colab": {
          "base_uri": "https://localhost:8080/"
        },
        "outputId": "6a5f619c-136d-4f3a-f6b2-14eaf80c8fc6"
      },
      "source": [
        "np.add(A,B)\n",
        "np.subtract(A,B)"
      ],
      "execution_count": null,
      "outputs": [
        {
          "output_type": "execute_result",
          "data": {
            "text/plain": [
              "array([[ 2, -1],\n",
              "       [-1, -6]])"
            ]
          },
          "metadata": {
            "tags": []
          },
          "execution_count": 4
        }
      ]
    },
    {
      "cell_type": "code",
      "metadata": {
        "id": "qQabAEoVLGod",
        "colab": {
          "base_uri": "https://localhost:8080/"
        },
        "outputId": "2dec53b7-5e4d-4fcb-9676-226f35df9d74"
      },
      "source": [
        "# Scalar Addition/Subtraction/Multiplication\n",
        "\n",
        "A * 2\n",
        "np.multiply(A,2)"
      ],
      "execution_count": null,
      "outputs": [
        {
          "output_type": "execute_result",
          "data": {
            "text/plain": [
              "array([[6, 8],\n",
              "       [4, 2]])"
            ]
          },
          "metadata": {
            "tags": []
          },
          "execution_count": 5
        }
      ]
    },
    {
      "cell_type": "code",
      "metadata": {
        "id": "76P-xKisL-Mi",
        "colab": {
          "base_uri": "https://localhost:8080/"
        },
        "outputId": "23da4c8d-b912-4c9a-bb1e-3b75b484c822"
      },
      "source": [
        "A * 1/2"
      ],
      "execution_count": null,
      "outputs": [
        {
          "output_type": "execute_result",
          "data": {
            "text/plain": [
              "array([[1.5, 2. ],\n",
              "       [1. , 0.5]])"
            ]
          },
          "metadata": {
            "tags": []
          },
          "execution_count": 6
        }
      ]
    },
    {
      "cell_type": "code",
      "metadata": {
        "id": "owmyiqrSMVAi",
        "colab": {
          "base_uri": "https://localhost:8080/"
        },
        "outputId": "b3fb885b-5964-4d76-cc0c-4629b87af496"
      },
      "source": [
        "A + 2\n",
        "np.add(A,2)\n",
        "\n",
        "A - 2\n",
        "np.subtract(A,2)"
      ],
      "execution_count": null,
      "outputs": [
        {
          "output_type": "execute_result",
          "data": {
            "text/plain": [
              "array([[ 1,  2],\n",
              "       [ 0, -1]])"
            ]
          },
          "metadata": {
            "tags": []
          },
          "execution_count": 7
        }
      ]
    },
    {
      "cell_type": "code",
      "metadata": {
        "id": "GN-5WW6NM2ZH",
        "colab": {
          "base_uri": "https://localhost:8080/"
        },
        "outputId": "e1d4b76d-da75-4b32-c39f-7c4e8293dca1"
      },
      "source": [
        "# Matrix Multiplication\n",
        "\n",
        "print('A : \\n',A)\n",
        "print('B : \\n',B)"
      ],
      "execution_count": null,
      "outputs": [
        {
          "output_type": "stream",
          "text": [
            "A : \n",
            " [[3 4]\n",
            " [2 1]]\n",
            "B : \n",
            " [[1 5]\n",
            " [3 7]]\n"
          ],
          "name": "stdout"
        }
      ]
    },
    {
      "cell_type": "code",
      "metadata": {
        "id": "IPCfJ_gIOlTW",
        "colab": {
          "base_uri": "https://localhost:8080/"
        },
        "outputId": "d76f042c-fd12-401b-88da-9c511fc1c6b0"
      },
      "source": [
        "np.matmul(A,B)"
      ],
      "execution_count": null,
      "outputs": [
        {
          "output_type": "execute_result",
          "data": {
            "text/plain": [
              "array([[15, 43],\n",
              "       [ 5, 17]])"
            ]
          },
          "metadata": {
            "tags": []
          },
          "execution_count": 9
        }
      ]
    },
    {
      "cell_type": "code",
      "metadata": {
        "id": "NH25qHElOzKh",
        "colab": {
          "base_uri": "https://localhost:8080/"
        },
        "outputId": "578eec99-3e89-49cc-f6f3-9f102d347d49"
      },
      "source": [
        "C = np.array([[3,4,2]])\n",
        "D = np.array([[13,9,7,15],[8,7,4,6],[6,4,0,3]])\n",
        "print('C : \\n',C,'Shape: ',C.shape)\n",
        "print('D : \\n',D,'Shape: ',D.shape)  # Output : M * N = N * P"
      ],
      "execution_count": null,
      "outputs": [
        {
          "output_type": "stream",
          "text": [
            "C : \n",
            " [[3 4 2]] Shape:  (1, 3)\n",
            "D : \n",
            " [[13  9  7 15]\n",
            " [ 8  7  4  6]\n",
            " [ 6  4  0  3]] Shape:  (3, 4)\n"
          ],
          "name": "stdout"
        }
      ]
    },
    {
      "cell_type": "code",
      "metadata": {
        "id": "y1bmEBZNQy0M",
        "colab": {
          "base_uri": "https://localhost:8080/"
        },
        "outputId": "1e167998-af2b-436e-dd38-7d2de228aaee"
      },
      "source": [
        "np.matmul(C,D)"
      ],
      "execution_count": null,
      "outputs": [
        {
          "output_type": "execute_result",
          "data": {
            "text/plain": [
              "array([[83, 63, 37, 75]])"
            ]
          },
          "metadata": {
            "tags": []
          },
          "execution_count": 11
        }
      ]
    },
    {
      "cell_type": "code",
      "metadata": {
        "id": "St2DSppORxrt",
        "colab": {
          "base_uri": "https://localhost:8080/"
        },
        "outputId": "73bbe070-efcb-4c31-d1b8-d4d76a9b2e5f"
      },
      "source": [
        "#Matrix Multiplication is not commutative\n",
        "\n",
        "E = np.array([[1,1],[100,100]])\n",
        "F = np.array([[-1,1],[1,-1]])\n",
        "np.matmul(E,F)"
      ],
      "execution_count": null,
      "outputs": [
        {
          "output_type": "execute_result",
          "data": {
            "text/plain": [
              "array([[0, 0],\n",
              "       [0, 0]])"
            ]
          },
          "metadata": {
            "tags": []
          },
          "execution_count": 12
        }
      ]
    },
    {
      "cell_type": "code",
      "metadata": {
        "id": "5LWOBuPsTEnU",
        "colab": {
          "base_uri": "https://localhost:8080/"
        },
        "outputId": "84081887-91d0-427d-9f00-7f13ce41f9bc"
      },
      "source": [
        "np.matmul(F,E)"
      ],
      "execution_count": null,
      "outputs": [
        {
          "output_type": "execute_result",
          "data": {
            "text/plain": [
              "array([[ 99,  99],\n",
              "       [-99, -99]])"
            ]
          },
          "metadata": {
            "tags": []
          },
          "execution_count": 13
        }
      ]
    },
    {
      "cell_type": "code",
      "metadata": {
        "id": "dWXDn-qoTIpD",
        "colab": {
          "base_uri": "https://localhost:8080/"
        },
        "outputId": "4f46145b-503e-4f18-cfe0-fc817e6995cd"
      },
      "source": [
        "#Matrix Transpose - Row to columns\n",
        "\n",
        "np.transpose(A)"
      ],
      "execution_count": null,
      "outputs": [
        {
          "output_type": "execute_result",
          "data": {
            "text/plain": [
              "array([[3, 2],\n",
              "       [4, 1]])"
            ]
          },
          "metadata": {
            "tags": []
          },
          "execution_count": 16
        }
      ]
    },
    {
      "cell_type": "code",
      "metadata": {
        "id": "ztgycuqAKxvk",
        "colab": {
          "base_uri": "https://localhost:8080/"
        },
        "outputId": "9725eba1-e8b7-46b5-c98a-3d28f95e3d09"
      },
      "source": [
        "A.T"
      ],
      "execution_count": null,
      "outputs": [
        {
          "output_type": "execute_result",
          "data": {
            "text/plain": [
              "array([[3, 2],\n",
              "       [4, 1]])"
            ]
          },
          "metadata": {
            "tags": []
          },
          "execution_count": 17
        }
      ]
    },
    {
      "cell_type": "code",
      "metadata": {
        "id": "nppjNwu0KNFE",
        "colab": {
          "base_uri": "https://localhost:8080/"
        },
        "outputId": "cc5cec75-e1bc-4889-9660-05cfe6ccfb1a"
      },
      "source": [
        "np.transpose(np.transpose(A)) # Transfer two Matrices"
      ],
      "execution_count": null,
      "outputs": [
        {
          "output_type": "execute_result",
          "data": {
            "text/plain": [
              "array([[3, 4],\n",
              "       [2, 1]])"
            ]
          },
          "metadata": {
            "tags": []
          },
          "execution_count": 18
        }
      ]
    },
    {
      "cell_type": "markdown",
      "metadata": {
        "id": "j6ksMvLQMZ1h"
      },
      "source": [
        "###Transposition Rule\n",
        "(AB)T = BT * AT  \n",
        "HERE T stands for Transpose\n"
      ]
    },
    {
      "cell_type": "code",
      "metadata": {
        "id": "__cdXhxwLGts",
        "colab": {
          "base_uri": "https://localhost:8080/"
        },
        "outputId": "36b9b482-e84f-4a38-bf8f-3a318dcf366a"
      },
      "source": [
        "print('A : \\n',A)\n",
        "print('B : \\n',B)"
      ],
      "execution_count": null,
      "outputs": [
        {
          "output_type": "stream",
          "text": [
            "A : \n",
            " [[3 4]\n",
            " [2 1]]\n",
            "B : \n",
            " [[1 5]\n",
            " [3 7]]\n"
          ],
          "name": "stdout"
        }
      ]
    },
    {
      "cell_type": "code",
      "metadata": {
        "id": "9Yeg_1MYNLM-",
        "colab": {
          "base_uri": "https://localhost:8080/"
        },
        "outputId": "a4a6687e-79e6-48a5-da40-cff804308482"
      },
      "source": [
        "matrix_mul = np.matmul(A,B)\n",
        "np.transpose(matrix_mul)"
      ],
      "execution_count": null,
      "outputs": [
        {
          "output_type": "execute_result",
          "data": {
            "text/plain": [
              "array([[15,  5],\n",
              "       [43, 17]])"
            ]
          },
          "metadata": {
            "tags": []
          },
          "execution_count": 20
        }
      ]
    },
    {
      "cell_type": "code",
      "metadata": {
        "id": "VX520_gNNvnO",
        "colab": {
          "base_uri": "https://localhost:8080/"
        },
        "outputId": "63f7ece3-2cb6-49ad-f499-ec5cc61d7a94"
      },
      "source": [
        "np.matmul(B.T,A.T)"
      ],
      "execution_count": null,
      "outputs": [
        {
          "output_type": "execute_result",
          "data": {
            "text/plain": [
              "array([[15,  5],\n",
              "       [43, 17]])"
            ]
          },
          "metadata": {
            "tags": []
          },
          "execution_count": 21
        }
      ]
    },
    {
      "cell_type": "code",
      "metadata": {
        "id": "FdYhkco9N_wI",
        "colab": {
          "base_uri": "https://localhost:8080/"
        },
        "outputId": "2c242e73-b122-41ab-9015-cb286a997c6b"
      },
      "source": [
        "#Special Matrices\n",
        "\n",
        "#Symmetric\n",
        "\n",
        "sMatrix = np.array([[1,1,-1],[1,2,0],[-1,0,5]])\n",
        "sMatrix"
      ],
      "execution_count": null,
      "outputs": [
        {
          "output_type": "execute_result",
          "data": {
            "text/plain": [
              "array([[ 1,  1, -1],\n",
              "       [ 1,  2,  0],\n",
              "       [-1,  0,  5]])"
            ]
          },
          "metadata": {
            "tags": []
          },
          "execution_count": 22
        }
      ]
    },
    {
      "cell_type": "code",
      "metadata": {
        "id": "r8uZAwTuSrPi",
        "colab": {
          "base_uri": "https://localhost:8080/"
        },
        "outputId": "47e96cc1-5de6-46c7-a8a8-68075cb5f425"
      },
      "source": [
        "sMatrix.T #After transpose gives same matrix"
      ],
      "execution_count": null,
      "outputs": [
        {
          "output_type": "execute_result",
          "data": {
            "text/plain": [
              "array([[ 1,  1, -1],\n",
              "       [ 1,  2,  0],\n",
              "       [-1,  0,  5]])"
            ]
          },
          "metadata": {
            "tags": []
          },
          "execution_count": 23
        }
      ]
    },
    {
      "cell_type": "code",
      "metadata": {
        "id": "FckEVFTTSx_a",
        "colab": {
          "base_uri": "https://localhost:8080/"
        },
        "outputId": "32a18132-1c98-4b39-8aad-5a77d5eab1cb"
      },
      "source": [
        "#Skew Matrix\n",
        "\n",
        "skMatrix = np.array([[0,1,-2],[-1,0,3],[2,-3,0]])\n",
        "skMatrix"
      ],
      "execution_count": null,
      "outputs": [
        {
          "output_type": "execute_result",
          "data": {
            "text/plain": [
              "array([[ 0,  1, -2],\n",
              "       [-1,  0,  3],\n",
              "       [ 2, -3,  0]])"
            ]
          },
          "metadata": {
            "tags": []
          },
          "execution_count": 24
        }
      ]
    },
    {
      "cell_type": "code",
      "metadata": {
        "id": "MD02gI7zTSXL",
        "colab": {
          "base_uri": "https://localhost:8080/"
        },
        "outputId": "44358990-435c-411b-a444-d5bada921efe"
      },
      "source": [
        "skMatrix.T      #Transpose gives negative values"
      ],
      "execution_count": null,
      "outputs": [
        {
          "output_type": "execute_result",
          "data": {
            "text/plain": [
              "array([[ 0, -1,  2],\n",
              "       [ 1,  0, -3],\n",
              "       [-2,  3,  0]])"
            ]
          },
          "metadata": {
            "tags": []
          },
          "execution_count": 25
        }
      ]
    },
    {
      "cell_type": "code",
      "metadata": {
        "id": "7Fl7WEhXTawx",
        "colab": {
          "base_uri": "https://localhost:8080/"
        },
        "outputId": "165c1f01-ba51-4640-9a40-82c60ecaa0e9"
      },
      "source": [
        "# Diagonal Matrix\n",
        "\n",
        "dMatrix = np.array([[12,0,0],[0,18,0],[0,0,26]])\n",
        "dMatrix"
      ],
      "execution_count": null,
      "outputs": [
        {
          "output_type": "execute_result",
          "data": {
            "text/plain": [
              "array([[12,  0,  0],\n",
              "       [ 0, 18,  0],\n",
              "       [ 0,  0, 26]])"
            ]
          },
          "metadata": {
            "tags": []
          },
          "execution_count": 26
        }
      ]
    },
    {
      "cell_type": "code",
      "metadata": {
        "id": "MlFrLad8UK6m",
        "colab": {
          "base_uri": "https://localhost:8080/"
        },
        "outputId": "024b8d51-c84e-483f-b121-03cc66282188"
      },
      "source": [
        "# Covert a vector to diagonal Matrix\n",
        "\n",
        "a = np.array([12,18,26]) #single vector converted to diagonal\n",
        "np.diag(a)"
      ],
      "execution_count": null,
      "outputs": [
        {
          "output_type": "execute_result",
          "data": {
            "text/plain": [
              "array([[12,  0,  0],\n",
              "       [ 0, 18,  0],\n",
              "       [ 0,  0, 26]])"
            ]
          },
          "metadata": {
            "tags": []
          },
          "execution_count": 27
        }
      ]
    },
    {
      "cell_type": "code",
      "metadata": {
        "id": "tk983EGbUtUi",
        "colab": {
          "base_uri": "https://localhost:8080/"
        },
        "outputId": "7b546fef-e3f9-4867-a731-672a839861ad"
      },
      "source": [
        "#Finding Determinant of a Matrix\n",
        "\n",
        "mat = np.array([[3,1],[1,2]])\n",
        "mat"
      ],
      "execution_count": null,
      "outputs": [
        {
          "output_type": "execute_result",
          "data": {
            "text/plain": [
              "array([[3, 1],\n",
              "       [1, 2]])"
            ]
          },
          "metadata": {
            "tags": []
          },
          "execution_count": 29
        }
      ]
    },
    {
      "cell_type": "code",
      "metadata": {
        "id": "Sc9d4k7OWr81",
        "colab": {
          "base_uri": "https://localhost:8080/"
        },
        "outputId": "0c50d614-1fad-4834-863f-0481f12dbbc0"
      },
      "source": [
        "np.linalg.det(mat)"
      ],
      "execution_count": null,
      "outputs": [
        {
          "output_type": "execute_result",
          "data": {
            "text/plain": [
              "5.000000000000001"
            ]
          },
          "metadata": {
            "tags": []
          },
          "execution_count": 31
        }
      ]
    },
    {
      "cell_type": "code",
      "metadata": {
        "id": "F93Lf6g6W7a6",
        "colab": {
          "base_uri": "https://localhost:8080/"
        },
        "outputId": "1ea25c9b-8ae7-4319-ebb8-3237dc209325"
      },
      "source": [
        "mat2 = np.array([[2,-3,1],[2,0,-1],[1,4,5]])\n",
        "mat2"
      ],
      "execution_count": null,
      "outputs": [
        {
          "output_type": "execute_result",
          "data": {
            "text/plain": [
              "array([[ 2, -3,  1],\n",
              "       [ 2,  0, -1],\n",
              "       [ 1,  4,  5]])"
            ]
          },
          "metadata": {
            "tags": []
          },
          "execution_count": 34
        }
      ]
    },
    {
      "cell_type": "code",
      "metadata": {
        "id": "DVVWxhpNXTf8",
        "colab": {
          "base_uri": "https://localhost:8080/"
        },
        "outputId": "90f736c5-9f34-431e-ab03-2c703c7f3040"
      },
      "source": [
        "sol = np.linalg.det(mat2)\n",
        "sol "
      ],
      "execution_count": null,
      "outputs": [
        {
          "output_type": "execute_result",
          "data": {
            "text/plain": [
              "49.000000000000014"
            ]
          },
          "metadata": {
            "tags": []
          },
          "execution_count": 37
        }
      ]
    },
    {
      "cell_type": "code",
      "metadata": {
        "id": "vEjaDI5_XZH9",
        "colab": {
          "base_uri": "https://localhost:8080/"
        },
        "outputId": "253bb18b-0a5d-4da0-e652-80ea9f93a592"
      },
      "source": [
        "np.around(sol)"
      ],
      "execution_count": null,
      "outputs": [
        {
          "output_type": "execute_result",
          "data": {
            "text/plain": [
              "49.0"
            ]
          },
          "metadata": {
            "tags": []
          },
          "execution_count": 38
        }
      ]
    },
    {
      "cell_type": "code",
      "metadata": {
        "id": "LMgTK7WEYPtu",
        "colab": {
          "base_uri": "https://localhost:8080/"
        },
        "outputId": "a774834f-da20-4783-c7ea-ab684a6a21f6"
      },
      "source": [
        "np.linalg.det(mat.T)"
      ],
      "execution_count": null,
      "outputs": [
        {
          "output_type": "execute_result",
          "data": {
            "text/plain": [
              "5.000000000000001"
            ]
          },
          "metadata": {
            "tags": []
          },
          "execution_count": 39
        }
      ]
    },
    {
      "cell_type": "code",
      "metadata": {
        "id": "Hdd-AnKLZi29",
        "colab": {
          "base_uri": "https://localhost:8080/"
        },
        "outputId": "2c6e4eb8-edb1-4581-d974-5df75f78de2d"
      },
      "source": [
        "A"
      ],
      "execution_count": null,
      "outputs": [
        {
          "output_type": "execute_result",
          "data": {
            "text/plain": [
              "array([[3, 4],\n",
              "       [2, 1]])"
            ]
          },
          "metadata": {
            "tags": []
          },
          "execution_count": 40
        }
      ]
    },
    {
      "cell_type": "code",
      "metadata": {
        "id": "ibov06H7aF7T",
        "colab": {
          "base_uri": "https://localhost:8080/"
        },
        "outputId": "bd84075a-82c1-41cc-cd20-06cf2b131f31"
      },
      "source": [
        "# Identity Matrix\n",
        "\n",
        "id_mat = np.array([[1,0],[0,1]])\n",
        "id_mat"
      ],
      "execution_count": null,
      "outputs": [
        {
          "output_type": "execute_result",
          "data": {
            "text/plain": [
              "array([[1, 0],\n",
              "       [0, 1]])"
            ]
          },
          "metadata": {
            "tags": []
          },
          "execution_count": 42
        }
      ]
    },
    {
      "cell_type": "code",
      "metadata": {
        "id": "_f8d5VbnaV8M",
        "colab": {
          "base_uri": "https://localhost:8080/"
        },
        "outputId": "1fca3493-a9b1-440a-cab7-a1b2f73b5c80"
      },
      "source": [
        "np.matmul(A,id_mat)"
      ],
      "execution_count": null,
      "outputs": [
        {
          "output_type": "execute_result",
          "data": {
            "text/plain": [
              "array([[3, 4],\n",
              "       [2, 1]])"
            ]
          },
          "metadata": {
            "tags": []
          },
          "execution_count": 43
        }
      ]
    },
    {
      "cell_type": "code",
      "metadata": {
        "id": "JvtrVX_8ao5V",
        "colab": {
          "base_uri": "https://localhost:8080/"
        },
        "outputId": "5936092f-1c04-4589-d4fe-53b1b428beb1"
      },
      "source": [
        "#Inverse of a Matrix\n",
        "\n",
        "A_inv = np.linalg.inv(A)\n",
        "A_inv"
      ],
      "execution_count": null,
      "outputs": [
        {
          "output_type": "execute_result",
          "data": {
            "text/plain": [
              "array([[-0.2,  0.8],\n",
              "       [ 0.4, -0.6]])"
            ]
          },
          "metadata": {
            "tags": []
          },
          "execution_count": 44
        }
      ]
    },
    {
      "cell_type": "code",
      "metadata": {
        "id": "Mo-O-_Srbhcg",
        "colab": {
          "base_uri": "https://localhost:8080/"
        },
        "outputId": "19376334-e104-46aa-c418-e4dffbcbbd8d"
      },
      "source": [
        "# A * A_inv = I\n",
        "\n",
        "np.matmul(A,A_inv)"
      ],
      "execution_count": null,
      "outputs": [
        {
          "output_type": "execute_result",
          "data": {
            "text/plain": [
              "array([[1., 0.],\n",
              "       [0., 1.]])"
            ]
          },
          "metadata": {
            "tags": []
          },
          "execution_count": 45
        }
      ]
    },
    {
      "cell_type": "code",
      "metadata": {
        "id": "FIG7VkFtb07A"
      },
      "source": [
        ""
      ],
      "execution_count": null,
      "outputs": []
    }
  ]
}