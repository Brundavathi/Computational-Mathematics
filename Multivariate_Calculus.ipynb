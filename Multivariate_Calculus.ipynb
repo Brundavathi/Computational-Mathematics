{
  "nbformat": 4,
  "nbformat_minor": 0,
  "metadata": {
    "colab": {
      "name": "Multivariate Calculus.ipynb",
      "provenance": [],
      "collapsed_sections": [],
      "authorship_tag": "ABX9TyNw+2DtjHaNDIgGXllQbciM",
      "include_colab_link": true
    },
    "kernelspec": {
      "name": "python3",
      "display_name": "Python 3"
    }
  },
  "cells": [
    {
      "cell_type": "markdown",
      "metadata": {
        "id": "view-in-github",
        "colab_type": "text"
      },
      "source": [
        "<a href=\"https://colab.research.google.com/github/Brundavathi/Computational-Mathematics/blob/main/Multivariate_Calculus.ipynb\" target=\"_parent\"><img src=\"https://colab.research.google.com/assets/colab-badge.svg\" alt=\"Open In Colab\"/></a>"
      ]
    },
    {
      "cell_type": "code",
      "metadata": {
        "id": "3H1IMOAYE0eL"
      },
      "source": [
        "import sympy as sm\n",
        "from scipy.misc import derivative "
      ],
      "execution_count": null,
      "outputs": []
    },
    {
      "cell_type": "code",
      "metadata": {
        "id": "10PT7uiYE-FE"
      },
      "source": [
        "x, y, z = sm.symbols('x y z')"
      ],
      "execution_count": null,
      "outputs": []
    },
    {
      "cell_type": "code",
      "metadata": {
        "id": "9I0FYkz9Fiu9",
        "colab": {
          "base_uri": "https://localhost:8080/"
        },
        "outputId": "330c389e-731e-4e25-a46e-0954991093ce"
      },
      "source": [
        "# Function - 3x**2\n",
        "\n",
        "sm.diff(3*x**2)"
      ],
      "execution_count": null,
      "outputs": [
        {
          "output_type": "execute_result",
          "data": {
            "text/plain": [
              "6*x"
            ]
          },
          "metadata": {
            "tags": []
          },
          "execution_count": 11
        }
      ]
    },
    {
      "cell_type": "code",
      "metadata": {
        "id": "vBLpZ081FxR2",
        "colab": {
          "base_uri": "https://localhost:8080/"
        },
        "outputId": "56f5a419-aca7-4c8d-a1ef-ea6d996a44dc"
      },
      "source": [
        "sm.diff(2*x)"
      ],
      "execution_count": null,
      "outputs": [
        {
          "output_type": "execute_result",
          "data": {
            "text/plain": [
              "2"
            ]
          },
          "metadata": {
            "tags": []
          },
          "execution_count": 12
        }
      ]
    },
    {
      "cell_type": "code",
      "metadata": {
        "id": "VLTpdMMXGYPP"
      },
      "source": [
        "def myFunc(x):\n",
        "  return 2*x"
      ],
      "execution_count": null,
      "outputs": []
    },
    {
      "cell_type": "code",
      "metadata": {
        "id": "5NmhKdarG7B4",
        "colab": {
          "base_uri": "https://localhost:8080/"
        },
        "outputId": "672391e2-43d0-40a3-9511-5e8b48d37fa8"
      },
      "source": [
        "derivative(myFunc,4)"
      ],
      "execution_count": null,
      "outputs": [
        {
          "output_type": "execute_result",
          "data": {
            "text/plain": [
              "2.0"
            ]
          },
          "metadata": {
            "tags": []
          },
          "execution_count": 17
        }
      ]
    },
    {
      "cell_type": "code",
      "metadata": {
        "id": "87QWF7JMHtnD",
        "colab": {
          "base_uri": "https://localhost:8080/"
        },
        "outputId": "a2ed99f7-99fb-4c07-c3fa-cb50c44af67a"
      },
      "source": [
        "#Function - 3x*2+5x\n",
        "\n",
        "sm.diff(3*x**2+5*x)"
      ],
      "execution_count": null,
      "outputs": [
        {
          "output_type": "execute_result",
          "data": {
            "text/plain": [
              "6*x + 5"
            ]
          },
          "metadata": {
            "tags": []
          },
          "execution_count": 18
        }
      ]
    },
    {
      "cell_type": "code",
      "metadata": {
        "id": "vVDQy6qyKm7X",
        "colab": {
          "base_uri": "https://localhost:8080/"
        },
        "outputId": "b091a036-c4af-435d-8591-e87e0df1135e"
      },
      "source": [
        "#Product Rule\n",
        "\n",
        "sm.diff((x**2 + 1)* sm.cos(x))"
      ],
      "execution_count": null,
      "outputs": [
        {
          "output_type": "execute_result",
          "data": {
            "text/plain": [
              "2*x*cos(x) - (x**2 + 1)*sin(x)"
            ]
          },
          "metadata": {
            "tags": []
          },
          "execution_count": 19
        }
      ]
    },
    {
      "cell_type": "code",
      "metadata": {
        "id": "dbyJwP7bLQ8z",
        "colab": {
          "base_uri": "https://localhost:8080/"
        },
        "outputId": "73ab77a3-68a4-4e82-cd62-c00aa8bd82ef"
      },
      "source": [
        "#Chain Rule\n",
        "\n",
        "sm.diff((x**2 - 3*x + 5) ** 3)"
      ],
      "execution_count": null,
      "outputs": [
        {
          "output_type": "execute_result",
          "data": {
            "text/plain": [
              "(6*x - 9)*(x**2 - 3*x + 5)**2"
            ]
          },
          "metadata": {
            "tags": []
          },
          "execution_count": 20
        }
      ]
    },
    {
      "cell_type": "code",
      "metadata": {
        "id": "eUdDJ9adMZ2q",
        "colab": {
          "base_uri": "https://localhost:8080/"
        },
        "outputId": "48366a03-cc11-4f76-be39-2a4301e0e45b"
      },
      "source": [
        "#Partial Derivative\n",
        "\n",
        "f = x**2 * y * z**5\n",
        "\n",
        "sm.diff(f,x)"
      ],
      "execution_count": null,
      "outputs": [
        {
          "output_type": "execute_result",
          "data": {
            "text/plain": [
              "2*x*y*z**5"
            ]
          },
          "metadata": {
            "tags": []
          },
          "execution_count": 21
        }
      ]
    },
    {
      "cell_type": "code",
      "metadata": {
        "id": "XcVBKRloN3wC",
        "colab": {
          "base_uri": "https://localhost:8080/"
        },
        "outputId": "f2ac7745-c8ce-4d97-e0b1-8b8ba45f1423"
      },
      "source": [
        "sm.diff(f,y)"
      ],
      "execution_count": null,
      "outputs": [
        {
          "output_type": "execute_result",
          "data": {
            "text/plain": [
              "x**2*z**5"
            ]
          },
          "metadata": {
            "tags": []
          },
          "execution_count": 22
        }
      ]
    },
    {
      "cell_type": "code",
      "metadata": {
        "id": "Wv1qQjnMN7go",
        "colab": {
          "base_uri": "https://localhost:8080/"
        },
        "outputId": "9ced420f-7cb8-4cec-db80-2cd4ffea4a14"
      },
      "source": [
        "sm.diff(f,z)"
      ],
      "execution_count": null,
      "outputs": [
        {
          "output_type": "execute_result",
          "data": {
            "text/plain": [
              "5*x**2*y*z**4"
            ]
          },
          "metadata": {
            "tags": []
          },
          "execution_count": 23
        }
      ]
    },
    {
      "cell_type": "code",
      "metadata": {
        "id": "ogcSxluKN9RY"
      },
      "source": [
        ""
      ],
      "execution_count": null,
      "outputs": []
    }
  ]
}